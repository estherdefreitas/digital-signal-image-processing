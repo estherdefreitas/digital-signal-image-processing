import cv2
from google.colab.patches import cv2_imshow
import numpy as np

img = cv2.imread('womansmile.jpg')
# cv2_imshow(img)

green = np.uint8([[[0,255,0 ]]])
hsv_green = cv2.cvtColor(green,cv2.COLOR_BGR2HSV)
hsv_green_transform = np.array(hsv_green)
hsv_green_array = hsv_green_transform.reshape(-1, hsv_green_transform.shape[-1])[0]
# print(hsv_green_array)
hsv = cv2.cvtColor(img, cv2.COLOR_BGR2HSV)
lower = np.array([40, 30, 20], dtype=np.uint8)
upper = np.array(hsv_green_array)

mask = cv2.inRange(hsv, lower, upper)
res = cv2.bitwise_not(img, img, mask=mask)

cv2_imshow(mask)
# cv2_imshow(hsv)
cv2_imshow(res)

alpha_channel = cv2.bitwise_not(mask)
b, g, r = cv2.split(img)
img_without_bg= cv2.merge([b, g, r, alpha_channel])
cv2_imshow(img_without_bg)
